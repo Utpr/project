{
 "cells": [
  {
   "cell_type": "code",
   "execution_count": 35,
   "id": "16ef6b80",
   "metadata": {},
   "outputs": [
    {
     "name": "stdout",
     "output_type": "stream",
     "text": [
      "Your annual premium is Rs 35000\n",
      "Your annual premium is Rs 33250.0\n"
     ]
    }
   ],
   "source": [
    "def calculate_premium(gender, birth_year, smoker):\n",
    "    # Constants for the premiums and discounts\n",
    "    PREMIUM_MALE_SMOKER_1990_2000 = 35000\n",
    "    PREMIUM_MALE_SMOKER_1970_1990 = 40000\n",
    "    PREMIUM_FEMALE_SMOKER_1990_2000 = 30000\n",
    "    PREMIUM_FEMALE_SMOKER_1970_1990 = 35000\n",
    "    DISCOUNT_10_PERCENT = 0.10\n",
    "    DISCOUNT_5_PERCENT = 0.05\n",
    "\n",
    "    if gender.lower() == 'male':\n",
    "        if 1990 <= birth_year <= 2000:\n",
    "            if smoker.lower() == 'yes':\n",
    "                premium = PREMIUM_MALE_SMOKER_1990_2000\n",
    "                print(f\"Your annual premium is Rs {premium}\")\n",
    "            else:\n",
    "                discount = PREMIUM_MALE_SMOKER_1990_2000 * DISCOUNT_10_PERCENT\n",
    "                final_price = PREMIUM_MALE_SMOKER_1990_2000 - discount\n",
    "                print(f\"Your annual premium is Rs {final_price}\")\n",
    "        elif 1970 <= birth_year < 1990:\n",
    "            if smoker.lower() == 'yes':\n",
    "                premium = PREMIUM_MALE_SMOKER_1970_1990\n",
    "                print(f\"Your annual premium is Rs {premium}\")\n",
    "            else:\n",
    "                discount = PREMIUM_MALE_SMOKER_1970_1990 * DISCOUNT_5_PERCENT\n",
    "                final_price = PREMIUM_MALE_SMOKER_1970_1990 - discount\n",
    "                print(f\"Your annual premium is Rs {final_price}\")\n",
    "\n",
    "    elif gender.lower() == 'female':\n",
    "        if 1990 <= birth_year <= 2000:\n",
    "            if smoker.lower() == 'yes':\n",
    "                premium = PREMIUM_FEMALE_SMOKER_1990_2000\n",
    "                print(f\"Your annual premium is Rs {premium}\")\n",
    "            else:\n",
    "                discount = PREMIUM_FEMALE_SMOKER_1990_2000 * DISCOUNT_10_PERCENT\n",
    "                final_price = PREMIUM_FEMALE_SMOKER_1990_2000 - discount\n",
    "                print(f\"Your annual premium is Rs {final_price}\")\n",
    "        elif 1970 <= birth_year < 1990:\n",
    "            if smoker.lower() == 'yes':\n",
    "                premium = PREMIUM_FEMALE_SMOKER_1970_1990\n",
    "                print(f\"Your annual premium is Rs {premium}\")\n",
    "            else:\n",
    "                discount = PREMIUM_FEMALE_SMOKER_1970_1990 * DISCOUNT_5_PERCENT\n",
    "                final_price = PREMIUM_FEMALE_SMOKER_1970_1990 - discount\n",
    "                print(f\"Your annual premium is Rs {final_price}\")\n",
    "\n",
    "    else:\n",
    "        print(\"Invalid input.\")\n",
    "\n",
    "# Example usage\n",
    "calculate_premium('male', 1995, 'yes')\n",
    "calculate_premium('female', 1985, 'no')"
   ]
  },
  {
   "cell_type": "code",
   "execution_count": null,
   "id": "d308a31d",
   "metadata": {},
   "outputs": [],
   "source": []
  }
 ],
 "metadata": {
  "kernelspec": {
   "display_name": "Python 3",
   "language": "python",
   "name": "python3"
  },
  "language_info": {
   "codemirror_mode": {
    "name": "ipython",
    "version": 3
   },
   "file_extension": ".py",
   "mimetype": "text/x-python",
   "name": "python",
   "nbconvert_exporter": "python",
   "pygments_lexer": "ipython3",
   "version": "3.8.8"
  }
 },
 "nbformat": 4,
 "nbformat_minor": 5
}
